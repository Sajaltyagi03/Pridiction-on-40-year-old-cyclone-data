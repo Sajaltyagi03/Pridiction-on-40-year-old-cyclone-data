{
 "cells": [
  {
   "cell_type": "code",
   "execution_count": 1,
   "id": "823effc2-afae-4583-9c45-8f83b1e1d1ea",
   "metadata": {},
   "outputs": [],
   "source": [
    "import pandas as pd\n",
    "import numpy as np\n",
    "from sklearn import linear_model\n",
    "import statistics\n",
    "import matplotlib.pyplot as plt\n",
    "from sklearn.model_selection import train_test_split\n",
    "from sklearn.metrics import confusion_matrix, accuracy_score, r2_score, mean_squared_error, mean_absolute_error\n",
    "from sklearn.ensemble import GradientBoostingRegressor\n",
    "from sklearn.linear_model import Lasso\n",
    "from sklearn.neural_network import MLPRegressor\n",
    "from sklearn.metrics import accuracy_score,confusion_matrix\n",
    "import seaborn as sns\n",
    "import matplotlib.pyplot as plt"
   ]
  },
  {
   "cell_type": "code",
   "execution_count": 2,
   "id": "0316dbe3-2cee-4d46-a844-c3303ca27f7f",
   "metadata": {},
   "outputs": [],
   "source": [
    "df=pd.read_excel(\"C:/Users/sajal/Downloads/all_updated_env_data1982-2020.xlsx\")\n",
    "df.ffill(inplace=True)\n",
    "df.index=df.year\n",
    "df.drop(axis=1,columns='year',inplace=True)\n"
   ]
  },
  {
   "cell_type": "code",
   "execution_count": 3,
   "id": "fcb79328-f767-459d-8a95-081b00234db3",
   "metadata": {},
   "outputs": [],
   "source": [
    "reg_models = [\n",
    "    ['Gradient Boosting Regressor', GradientBoostingRegressor()],\n",
    "    ['Lasso', Lasso()],\n",
    "    ['MLP Regressor', MLPRegressor(hidden_layer_sizes=(100, 100), activation='relu', solver='adam', max_iter=1000)]\n",
    "]"
   ]
  },
  {
   "cell_type": "markdown",
   "id": "96a712d6-1fdf-48d5-bfdc-e5f7d7bc109e",
   "metadata": {
    "jp-MarkdownHeadingCollapsed": true,
    "tags": []
   },
   "source": [
    "### predicting wind speed"
   ]
  },
  {
   "cell_type": "code",
   "execution_count": 4,
   "id": "de86ad03-9d10-4289-98fe-c85983e3d19c",
   "metadata": {},
   "outputs": [
    {
     "name": "stdout",
     "output_type": "stream",
     "text": [
      "('Gradient Boosting Regressor', array([38.05893878, 35.26240246, 20.09231589, 18.10945056, 21.32623957,\n",
      "       22.17438183, 18.86471437, 20.17959474, 23.37139016, 17.97553211,\n",
      "       30.39957235, 20.52357402]))\n",
      "('Lasso', array([29.74161661, 28.61791618, 19.48065647, 18.94104637, 17.12732894,\n",
      "       23.0451858 , 22.67707896, 18.57335233, 23.34211542, 19.31266385,\n",
      "       29.62937529, 20.16604981]))\n",
      "('MLP Regressor', array([26.33662   , 26.52792761, 15.78662853, 18.72993074, 18.13640546,\n",
      "       21.71911076, 20.66501155, 18.38751879, 21.39743815, 16.98344355,\n",
      "       26.65440125, 19.21955949]))\n"
     ]
    }
   ],
   "source": [
    "x=df.drop(['wsp'],axis=1)\n",
    "y=df.wsp\n",
    "x_train,x_test,y_train,y_test = train_test_split(x,y,test_size=.3,random_state=42)\n",
    "\n",
    "for name, model in reg_models:\n",
    "    # Fit the model\n",
    "    model.fit(x_train,y_train)\n",
    "\n",
    "    # Predict on the test set\n",
    "    y_pred= model.predict(x_test)\n",
    "    print(f\"{name,y_pred}\")\n",
    "    "
   ]
  },
  {
   "cell_type": "markdown",
   "id": "04fffa48-ae30-4952-9d8e-fa7566dcb555",
   "metadata": {
    "jp-MarkdownHeadingCollapsed": true,
    "tags": []
   },
   "source": [
    "### predicting power dicipation index"
   ]
  },
  {
   "cell_type": "code",
   "execution_count": 5,
   "id": "36d8550a-a39f-42d3-b809-38c2f38b98f7",
   "metadata": {
    "tags": []
   },
   "outputs": [
    {
     "name": "stdout",
     "output_type": "stream",
     "text": [
      "('Gradient Boosting Regressor', array([10.5657551 ,  9.71193395,  1.03862778,  2.23671174,  0.59221369,\n",
      "        4.31482064,  2.60968007,  1.61758912,  3.81339924,  2.51280926,\n",
      "        9.40802931,  2.68969788]))\n",
      "('Lasso', array([10.9586843 , 10.20398608, -0.08327626,  1.79247183, -0.27037536,\n",
      "        4.17811271,  2.14492028,  1.30496135,  4.38783638,  2.1114804 ,\n",
      "        8.72675189,  3.57022607]))\n",
      "('MLP Regressor', array([17.56864596, 17.73643652, 18.01445813, 18.06911175, 18.28453123,\n",
      "       18.13102056, 18.22080071, 18.15436172, 18.24742924, 17.96767405,\n",
      "       17.53282765, 17.74303957]))\n"
     ]
    }
   ],
   "source": [
    "x=df.drop(['power dicipation index'],axis=1)\n",
    "y=df['power dicipation index']\n",
    "x_train,x_test,y_train,y_test = train_test_split(x,y,test_size=.3,random_state=42)\n",
    "reg_models = [\n",
    "    ['Gradient Boosting Regressor', GradientBoostingRegressor()],\n",
    "    ['Lasso', Lasso()],\n",
    "    ['MLP Regressor', MLPRegressor(hidden_layer_sizes=(100, 100), activation='relu', solver='adam', max_iter=1000)]\n",
    "]\n",
    "\n",
    "for name, model in reg_models:\n",
    "    # Fit the model\n",
    "    model.fit(x_train,y_train)\n",
    "\n",
    "    # Predict on the test set\n",
    "    y_pred= model.predict(x_test)\n",
    "    print(f\"{name,y_pred}\")  "
   ]
  },
  {
   "cell_type": "markdown",
   "id": "81e1a9c6-47c1-44dd-8a01-fbf2eaaaa64d",
   "metadata": {
    "jp-MarkdownHeadingCollapsed": true,
    "tags": []
   },
   "source": [
    "### predicting accumulated cyclone energy"
   ]
  },
  {
   "cell_type": "code",
   "execution_count": 6,
   "id": "a2515034-de54-44a1-9654-89cf028c1e33",
   "metadata": {},
   "outputs": [
    {
     "name": "stdout",
     "output_type": "stream",
     "text": [
      "('Gradient Boosting Regressor', array([13.73597449, 10.65281823,  1.56293082,  3.94130851,  2.65816865,\n",
      "        6.01595109,  4.26415558,  3.13831439,  5.89314662,  4.3012346 ,\n",
      "       13.99574347,  5.06217951]))\n",
      "('Lasso', array([14.76553025, 10.95645819,  1.56909374,  4.04156361,  2.45377144,\n",
      "        5.72399789,  5.35984073,  2.94630451,  5.97505707,  4.17685576,\n",
      "       13.4251204 ,  6.49083053]))\n",
      "('MLP Regressor', array([-6.16218679, -5.88143802, -5.52996468, -5.6779306 , -5.3803874 ,\n",
      "       -5.29537014, -5.59281543, -5.62318254, -5.66271629, -5.55340823,\n",
      "       -6.42212356, -5.66640491]))\n"
     ]
    }
   ],
   "source": [
    "x=df.drop(['accumulated cyclone energy'],axis=1)\n",
    "y=df['accumulated cyclone energy']\n",
    "x_train,x_test,y_train,y_test = train_test_split(x,y,test_size=.3,random_state=42)\n",
    "reg_models = [\n",
    "    ['Gradient Boosting Regressor', GradientBoostingRegressor()],\n",
    "    ['Lasso', Lasso()],\n",
    "    ['MLP Regressor', MLPRegressor(hidden_layer_sizes=(100, 100), activation='relu', solver='adam', max_iter=1000)]\n",
    "]\n",
    "\n",
    "for name, model in reg_models:\n",
    "    # Fit the model\n",
    "    model.fit(x_train,y_train)\n",
    "\n",
    "    # Predict on the test set\n",
    "    y_pred= model.predict(x_test)\n",
    "    print(f\"{name,y_pred}\")  "
   ]
  },
  {
   "cell_type": "markdown",
   "id": "6db49bac-fce2-452f-b6e0-9f301b05f42c",
   "metadata": {
    "jp-MarkdownHeadingCollapsed": true,
    "tags": []
   },
   "source": [
    "### predicting total column water vapour"
   ]
  },
  {
   "cell_type": "code",
   "execution_count": 7,
   "id": "6a00ecdc-2765-4913-8b92-1fbfe5b9d6f2",
   "metadata": {},
   "outputs": [
    {
     "name": "stdout",
     "output_type": "stream",
     "text": [
      "('Gradient Boosting Regressor', array([5.30758089, 5.26559649, 5.21621358, 5.29415745, 5.16873806,\n",
      "       5.2354997 , 5.28375166, 5.30583007, 5.28072512, 4.99589085,\n",
      "       5.2291568 , 5.25006987]))\n",
      "('Lasso', array([5.21551764, 5.21551764, 5.21551764, 5.21551764, 5.21551764,\n",
      "       5.21551764, 5.21551764, 5.21551764, 5.21551764, 5.21551764,\n",
      "       5.21551764, 5.21551764]))\n",
      "('MLP Regressor', array([21.132136  , 20.35751509, 19.28690243, 19.49519793, 19.57860612,\n",
      "       19.86458305, 19.77934243, 19.93002273, 20.14254049, 19.46228118,\n",
      "       20.09508045, 19.59338299]))\n"
     ]
    }
   ],
   "source": [
    "x=df.drop(['total column water vapour'],axis=1)\n",
    "y=df['total column water vapour']\n",
    "x_train,x_test,y_train,y_test = train_test_split(x,y,test_size=.3,random_state=42)\n",
    "reg_models = [\n",
    "    ['Gradient Boosting Regressor', GradientBoostingRegressor()],\n",
    "    ['Lasso', Lasso()],\n",
    "    ['MLP Regressor', MLPRegressor(hidden_layer_sizes=(100, 100), activation='relu', solver='adam', max_iter=1000)]\n",
    "]\n",
    "\n",
    "for name, model in reg_models:\n",
    "    # Fit the model\n",
    "    model.fit(x_train,y_train)\n",
    "\n",
    "    # Predict on the test set\n",
    "    y_pred= model.predict(x_test)\n",
    "    print(f\"{name,y_pred}\")  "
   ]
  },
  {
   "cell_type": "markdown",
   "id": "66c31409-091f-4ab6-8eca-5f206452446d",
   "metadata": {
    "jp-MarkdownHeadingCollapsed": true,
    "tags": []
   },
   "source": [
    "### predictng ocean hit content"
   ]
  },
  {
   "cell_type": "code",
   "execution_count": 8,
   "id": "8bfdbc72-0e52-4e2b-8ce3-7ef656d05e10",
   "metadata": {},
   "outputs": [
    {
     "name": "stdout",
     "output_type": "stream",
     "text": [
      "('Gradient Boosting Regressor', array([5.312181  , 5.2733616 , 5.21968443, 5.29815451, 5.16010922,\n",
      "       5.24751994, 5.30015259, 5.30963263, 5.28449013, 4.99535462,\n",
      "       5.25406777, 5.28619594]))\n",
      "('Lasso', array([5.21551764, 5.21551764, 5.21551764, 5.21551764, 5.21551764,\n",
      "       5.21551764, 5.21551764, 5.21551764, 5.21551764, 5.21551764,\n",
      "       5.21551764, 5.21551764]))\n",
      "('MLP Regressor', array([15.49852002, 15.09617002, 14.43063405, 14.46741181, 14.57575166,\n",
      "       14.67252052, 14.64982153, 14.85519806, 14.92527594, 14.58956555,\n",
      "       14.98322417, 14.49179739]))\n"
     ]
    }
   ],
   "source": [
    "x=df.drop(['total column water vapour'],axis=1)\n",
    "y=df['total column water vapour']\n",
    "x_train,x_test,y_train,y_test = train_test_split(x,y,test_size=.3,random_state=42)\n",
    "reg_models = [\n",
    "    ['Gradient Boosting Regressor', GradientBoostingRegressor()],\n",
    "    ['Lasso', Lasso()],\n",
    "    ['MLP Regressor', MLPRegressor(hidden_layer_sizes=(100, 100), activation='relu', solver='adam', max_iter=1000)]\n",
    "]\n",
    "\n",
    "for name, model in reg_models:\n",
    "    # Fit the model\n",
    "    model.fit(x_train,y_train)\n",
    "\n",
    "    # Predict on the test set\n",
    "    y_pred= model.predict(x_test)\n",
    "    print(f\"{name,y_pred}\")"
   ]
  },
  {
   "cell_type": "markdown",
   "id": "d4c9e83e-2c01-46e0-81c2-2774ab542e62",
   "metadata": {
    "jp-MarkdownHeadingCollapsed": true,
    "tags": []
   },
   "source": [
    "### predicting sea level pressure "
   ]
  },
  {
   "cell_type": "code",
   "execution_count": 9,
   "id": "ef1e3eab-2046-4926-8309-eb577fd5e12c",
   "metadata": {},
   "outputs": [
    {
     "name": "stdout",
     "output_type": "stream",
     "text": [
      "('Gradient Boosting Regressor', array([1010.27998471, 1010.28149302, 1010.40537801, 1010.18725056,\n",
      "       1010.22398194, 1009.43184568, 1009.76446934, 1010.40835659,\n",
      "       1010.23697318, 1010.24738411, 1009.464729  , 1010.56788843]))\n",
      "('Lasso', array([1010.10506796, 1010.10506796, 1010.10506796, 1010.10506796,\n",
      "       1010.10506796, 1010.10506796, 1010.10506796, 1010.10506796,\n",
      "       1010.10506796, 1010.10506796, 1010.10506796, 1010.10506796]))\n",
      "('MLP Regressor', array([1121.31267404, 1121.94341254, 1108.52697325, 1117.11682418,\n",
      "       1121.56697707, 1119.04364583, 1115.17171872, 1117.70322102,\n",
      "       1119.56709955, 1119.0931524 , 1112.63275109, 1116.08006704]))\n"
     ]
    }
   ],
   "source": [
    "x=df.drop(['sea level pressure'],axis=1)\n",
    "y=df['sea level pressure']\n",
    "x_train,x_test,y_train,y_test = train_test_split(x,y,test_size=.3,random_state=42)\n",
    "reg_models = [\n",
    "    ['Gradient Boosting Regressor', GradientBoostingRegressor()],\n",
    "    ['Lasso', Lasso()],\n",
    "    ['MLP Regressor', MLPRegressor(hidden_layer_sizes=(100, 100), activation='relu', solver='adam', max_iter=1000)]\n",
    "]\n",
    "\n",
    "for name, model in reg_models:\n",
    "    # Fit the model\n",
    "    model.fit(x_train,y_train)\n",
    "\n",
    "    # Predict on the test set\n",
    "    y_pred= model.predict(x_test)\n",
    "    print(f\"{name,y_pred}\")  "
   ]
  },
  {
   "cell_type": "markdown",
   "id": "ca4b5a6c-d9b9-42ce-bdf1-7613677994aa",
   "metadata": {
    "jp-MarkdownHeadingCollapsed": true,
    "tags": []
   },
   "source": [
    "### predicting ltt"
   ]
  },
  {
   "cell_type": "code",
   "execution_count": 10,
   "id": "4d6bfb93-17fb-496c-9b34-739f9d0525cc",
   "metadata": {},
   "outputs": [
    {
     "name": "stdout",
     "output_type": "stream",
     "text": [
      "('Gradient Boosting Regressor', array([-74.95155138, -75.0770899 , -74.67451788, -74.52726961,\n",
      "       -76.1932782 , -75.61914865, -75.68753495, -75.25927611,\n",
      "       -75.69307981, -75.63883966, -75.33911937, -74.06185624]))\n",
      "('Lasso', array([-75.10192364, -75.32764724, -74.35526391, -75.07748757,\n",
      "       -75.32460303, -75.0724973 , -74.82765352, -75.02193215,\n",
      "       -75.12278905, -75.17365009, -74.6400002 , -74.95593116]))\n",
      "('MLP Regressor', array([-65.93248148, -65.44532062, -62.88231758, -64.15858012,\n",
      "       -64.21704876, -64.61697967, -63.7488162 , -63.9760821 ,\n",
      "       -64.40311056, -64.37094856, -65.20198191, -64.4636445 ]))\n"
     ]
    }
   ],
   "source": [
    "x=df.drop(['ltt'],axis=1)\n",
    "y=df['ltt']\n",
    "x_train,x_test,y_train,y_test = train_test_split(x,y,test_size=.3,random_state=42)\n",
    "reg_models = [\n",
    "    ['Gradient Boosting Regressor', GradientBoostingRegressor()],\n",
    "    ['Lasso', Lasso()],\n",
    "    ['MLP Regressor', MLPRegressor(hidden_layer_sizes=(100, 100), activation='relu', solver='adam', max_iter=1000)]\n",
    "]\n",
    "\n",
    "for name, model in reg_models:\n",
    "    # Fit the model\n",
    "    model.fit(x_train,y_train)\n",
    "\n",
    "    # Predict on the test set\n",
    "    y_pred= model.predict(x_test)\n",
    "    print(f\"{name,y_pred}\")"
   ]
  },
  {
   "cell_type": "markdown",
   "id": "3c90faf7-5b4a-4c0a-aab2-45ae1380a3d5",
   "metadata": {
    "jp-MarkdownHeadingCollapsed": true,
    "tags": []
   },
   "source": [
    "### predicting land surface temp."
   ]
  },
  {
   "cell_type": "code",
   "execution_count": 11,
   "id": "9b818b4c-8669-4485-9d39-736f93ae8846",
   "metadata": {},
   "outputs": [
    {
     "name": "stdout",
     "output_type": "stream",
     "text": [
      "('Gradient Boosting Regressor', array([19.84858017, 19.63452804, 19.19360945, 19.29757517, 19.64099114,\n",
      "       19.33001312, 19.60695765, 19.66008208, 19.67466453, 19.40700964,\n",
      "       19.41850064, 19.39311482]))\n",
      "('Lasso', array([19.50454293, 19.48944234, 19.45959814, 19.45854957, 19.45321709,\n",
      "       19.47557321, 19.46890023, 19.46151883, 19.47355458, 19.45979019,\n",
      "       19.48033389, 19.47124209]))\n",
      "('MLP Regressor', array([11.52620555, 11.16290973, 14.0954287 , 12.3214312 , 12.11191015,\n",
      "       12.51940094, 12.97490375, 12.50576431, 12.1521863 , 12.15837601,\n",
      "       12.35916668, 12.51459964]))\n"
     ]
    }
   ],
   "source": [
    "x=df.drop(['land surface temp.'],axis=1)\n",
    "y=df['land surface temp.']\n",
    "x_train,x_test,y_train,y_test = train_test_split(x,y,test_size=.3,random_state=42)\n",
    "reg_models = [\n",
    "    ['Gradient Boosting Regressor', GradientBoostingRegressor()],\n",
    "    ['Lasso', Lasso()],\n",
    "    ['MLP Regressor', MLPRegressor(hidden_layer_sizes=(100, 100), activation='relu', solver='adam', max_iter=1000)]\n",
    "]\n",
    "\n",
    "for name, model in reg_models:\n",
    "    # Fit the model\n",
    "    model.fit(x_train,y_train)\n",
    "\n",
    "    # Predict on the test set\n",
    "    y_pred= model.predict(x_test)\n",
    "    print(f\"{name,y_pred}\") "
   ]
  },
  {
   "cell_type": "markdown",
   "id": "9851e8fe-090e-44fa-af2a-b8f1dbedbaa4",
   "metadata": {
    "jp-MarkdownHeadingCollapsed": true,
    "tags": []
   },
   "source": [
    "### predicting sea surface temp."
   ]
  },
  {
   "cell_type": "code",
   "execution_count": 12,
   "id": "86bde4be-e46d-4abc-952e-e1b847c789a2",
   "metadata": {},
   "outputs": [
    {
     "name": "stdout",
     "output_type": "stream",
     "text": [
      "('Gradient Boosting Regressor', array([300.07871608, 300.18682676, 299.57313853, 299.76218378,\n",
      "       300.00498775, 299.92716204, 300.00790785, 300.15897451,\n",
      "       300.0410539 , 299.91026238, 299.93189685, 299.90660789]))\n",
      "('Lasso', array([299.94012273, 299.93219168, 299.91651705, 299.91596632,\n",
      "       299.91316562, 299.9249074 , 299.92140265, 299.91752583,\n",
      "       299.92384718, 299.91661792, 299.92740778, 299.92263263]))\n",
      "('MLP Regressor', array([302.95205119, 304.27668759, 305.60769413, 305.8789076 ,\n",
      "       306.30124965, 305.00464906, 305.48425121, 305.57228401,\n",
      "       305.24966275, 306.07661905, 303.18116115, 305.08571297]))\n"
     ]
    }
   ],
   "source": [
    "x=df.drop(['sea surface temp.'],axis=1)\n",
    "y=df['sea surface temp.']\n",
    "x_train,x_test,y_train,y_test = train_test_split(x,y,test_size=.3,random_state=42)\n",
    "reg_models = [\n",
    "    ['Gradient Boosting Regressor', GradientBoostingRegressor()],\n",
    "    ['Lasso', Lasso()],\n",
    "    ['MLP Regressor', MLPRegressor(hidden_layer_sizes=(100, 100), activation='relu', solver='adam', max_iter=1000)]\n",
    "]\n",
    "\n",
    "for name, model in reg_models:\n",
    "    # Fit the model\n",
    "    model.fit(x_train,y_train)\n",
    "\n",
    "    # Predict on the test set\n",
    "    y_pred= model.predict(x_test)\n",
    "    print(f\"{name,y_pred}\")  "
   ]
  },
  {
   "cell_type": "markdown",
   "id": "d87c544f-6e57-43f8-984c-9698649ed8db",
   "metadata": {
    "jp-MarkdownHeadingCollapsed": true,
    "tags": []
   },
   "source": [
    "### predicting sea level pressure(tropical cyclone)"
   ]
  },
  {
   "cell_type": "code",
   "execution_count": 13,
   "id": "85da6840-f5e1-4e5f-bee9-72441adb54b3",
   "metadata": {},
   "outputs": [
    {
     "name": "stdout",
     "output_type": "stream",
     "text": [
      "('Gradient Boosting Regressor', array([989.41054981, 990.74761198, 984.99795909, 996.37771888,\n",
      "       995.30120046, 997.83707464, 985.8027638 , 995.98629528,\n",
      "       992.14984745, 996.75222295, 993.29967914, 989.46876412]))\n",
      "('Lasso', array([ 989.3955202 ,  990.09689729,  988.92591755,  994.67986095,\n",
      "       1000.95937497,  995.7147169 ,  989.94890202,  998.78424114,\n",
      "        994.07692421,  995.07777372,  993.10310791,  988.56374127]))\n",
      "('MLP Regressor', array([1123.13004463, 1118.61526817, 1109.80836907, 1110.26789536,\n",
      "       1109.22153928, 1114.04212843, 1112.1267788 , 1111.17098136,\n",
      "       1114.34423932, 1111.85299375, 1116.70828014, 1113.22983268]))\n"
     ]
    }
   ],
   "source": [
    "x=df.drop(['sea level pressure(tropical cyclone)'],axis=1)\n",
    "y=df['sea level pressure(tropical cyclone)']\n",
    "x_train,x_test,y_train,y_test = train_test_split(x,y,test_size=.3,random_state=42)\n",
    "reg_models = [\n",
    "    ['Gradient Boosting Regressor', GradientBoostingRegressor()],\n",
    "    ['Lasso', Lasso()],\n",
    "    ['MLP Regressor', MLPRegressor(hidden_layer_sizes=(100, 100), activation='relu', solver='adam', max_iter=1000)]\n",
    "]\n",
    "\n",
    "for name, model in reg_models:\n",
    "    # Fit the model\n",
    "    model.fit(x_train,y_train)\n",
    "\n",
    "    # Predict on the test set\n",
    "    y_pred= model.predict(x_test)\n",
    "    print(f\"{name,y_pred}\")\n"
   ]
  },
  {
   "cell_type": "markdown",
   "id": "e375770a-1fde-4d46-97fb-00e73d3f37d9",
   "metadata": {
    "jp-MarkdownHeadingCollapsed": true,
    "tags": []
   },
   "source": [
    "### predicting air temp."
   ]
  },
  {
   "cell_type": "code",
   "execution_count": 14,
   "id": "79a9a248-5056-4b78-8d63-36a67043405e",
   "metadata": {},
   "outputs": [
    {
     "name": "stdout",
     "output_type": "stream",
     "text": [
      "('Gradient Boosting Regressor', array([26.53363331, 26.42552342, 25.82188156, 26.04397044, 26.32692667,\n",
      "       26.08775978, 26.30821096, 26.36447045, 26.4442636 , 26.08459199,\n",
      "       26.09645159, 26.06821703]))\n",
      "('Lasso', array([26.21560583, 26.2067334 , 26.18919826, 26.18858217, 26.18544904,\n",
      "       26.1985845 , 26.19466376, 26.19032677, 26.19739845, 26.1893111 ,\n",
      "       26.20138167, 26.19603973]))\n",
      "('MLP Regressor', array([27.21325318, 27.61522861, 26.99153995, 27.97126458, 28.19169763,\n",
      "       27.47355953, 27.70015139, 27.65419192, 27.65195712, 28.01470687,\n",
      "       27.1006546 , 27.82308886]))\n"
     ]
    }
   ],
   "source": [
    "x=df.drop(['air temp.'],axis=1)\n",
    "y=df['air temp.']\n",
    "x_train,x_test,y_train,y_test = train_test_split(x,y,test_size=.3,random_state=42)\n",
    "reg_models = [\n",
    "    ['Gradient Boosting Regressor', GradientBoostingRegressor()],\n",
    "    ['Lasso', Lasso()],\n",
    "    ['MLP Regressor', MLPRegressor(hidden_layer_sizes=(100, 100), activation='relu', solver='adam', max_iter=1000)]\n",
    "]\n",
    "\n",
    "for name, model in reg_models:\n",
    "    # Fit the model\n",
    "    model.fit(x_train,y_train)\n",
    "\n",
    "    # Predict on the test set\n",
    "    y_pred= model.predict(x_test)\n",
    "    print(f\"{name,y_pred}\") "
   ]
  },
  {
   "cell_type": "markdown",
   "id": "fa1423b3-17ce-4cf2-8359-935a49cd1068",
   "metadata": {
    "jp-MarkdownHeadingCollapsed": true,
    "tags": []
   },
   "source": [
    "### predicting rh1000 "
   ]
  },
  {
   "cell_type": "code",
   "execution_count": 15,
   "id": "56e5c6a7-83ae-4d67-8f39-ddce0d95649d",
   "metadata": {},
   "outputs": [
    {
     "name": "stdout",
     "output_type": "stream",
     "text": [
      "('Gradient Boosting Regressor', array([78.4654248 , 77.59481081, 79.388581  , 77.93415489, 77.76817794,\n",
      "       77.61232997, 78.4144403 , 77.80562284, 77.60972769, 78.21938505,\n",
      "       79.32387582, 78.5308759 ]))\n",
      "('Lasso', array([78.06770504, 78.00355631, 78.96418736, 78.31125885, 78.03682588,\n",
      "       78.19179926, 78.44664846, 78.30775675, 78.17589734, 78.20880999,\n",
      "       78.7743518 , 78.34430689]))\n",
      "('MLP Regressor', array([84.43969965, 84.87240155, 83.58609101, 84.72991264, 85.17606495,\n",
      "       84.52137861, 84.47534577, 84.49411148, 84.67897104, 84.8447657 ,\n",
      "       84.45368278, 84.36092631]))\n"
     ]
    }
   ],
   "source": [
    "x=df.drop(['rh1000'],axis=1)\n",
    "y=df['rh1000']\n",
    "x_train,x_test,y_train,y_test = train_test_split(x,y,test_size=.3,random_state=42)\n",
    "reg_models = [\n",
    "    ['Gradient Boosting Regressor', GradientBoostingRegressor()],\n",
    "    ['Lasso', Lasso()],\n",
    "    ['MLP Regressor', MLPRegressor(hidden_layer_sizes=(100, 100), activation='relu', solver='adam', max_iter=1000)]\n",
    "]\n",
    "\n",
    "for name, model in reg_models:\n",
    "    # Fit the model\n",
    "    model.fit(x_train,y_train)\n",
    "\n",
    "    # Predict on the test set\n",
    "    y_pred= model.predict(x_test)\n",
    "    print(f\"{name,y_pred}\")  "
   ]
  },
  {
   "cell_type": "markdown",
   "id": "2b902519-7957-4a0f-b7a2-c3b63113766a",
   "metadata": {
    "jp-MarkdownHeadingCollapsed": true,
    "tags": []
   },
   "source": [
    "### predicting rh500-700"
   ]
  },
  {
   "cell_type": "code",
   "execution_count": 16,
   "id": "6c679c79-5411-4409-82b7-67a88b7f1ecb",
   "metadata": {},
   "outputs": [
    {
     "name": "stdout",
     "output_type": "stream",
     "text": [
      "('Gradient Boosting Regressor', array([45.65192141, 47.303429  , 46.40693644, 46.28240068, 46.16850626,\n",
      "       46.9971856 , 47.74033358, 46.340877  , 46.95252198, 44.98457124,\n",
      "       46.74547084, 45.95638108]))\n",
      "('Lasso', array([47.28357416, 46.85030353, 45.57814653, 45.79605587, 45.73934271,\n",
      "       46.35784472, 46.05807908, 45.88741408, 46.30272766, 45.87284717,\n",
      "       46.27938896, 46.16821514]))\n",
      "('MLP Regressor', array([33.02028558, 33.24386904, 33.73642615, 33.84011477, 34.19293907,\n",
      "       33.5328462 , 33.61353341, 33.99534669, 33.78873058, 33.88887039,\n",
      "       32.00708298, 33.54334215]))\n"
     ]
    }
   ],
   "source": [
    "x=df.drop(['rh500-700'],axis=1)\n",
    "y=df['rh500-700']\n",
    "x_train,x_test,y_train,y_test = train_test_split(x,y,test_size=.3,random_state=42)\n",
    "reg_models = [\n",
    "    ['Gradient Boosting Regressor', GradientBoostingRegressor()],\n",
    "    ['Lasso', Lasso()],\n",
    "    ['MLP Regressor', MLPRegressor(hidden_layer_sizes=(100, 100), activation='relu', solver='adam', max_iter=1000)]\n",
    "]\n",
    "\n",
    "for name, model in reg_models:\n",
    "    # Fit the model\n",
    "    model.fit(x_train,y_train)\n",
    "\n",
    "    # Predict on the test set\n",
    "    y_pred= model.predict(x_test)\n",
    "    print(f\"{name,y_pred}\") "
   ]
  },
  {
   "cell_type": "markdown",
   "id": "42e903f8-5253-4199-b57e-da68803a39c7",
   "metadata": {
    "jp-MarkdownHeadingCollapsed": true,
    "tags": []
   },
   "source": [
    "### predicting virtical wind speed"
   ]
  },
  {
   "cell_type": "code",
   "execution_count": 17,
   "id": "df1ea252-00c3-42cc-b74e-8bd0d1b93fb3",
   "metadata": {},
   "outputs": [
    {
     "name": "stdout",
     "output_type": "stream",
     "text": [
      "('Gradient Boosting Regressor', array([0.7194551 , 1.5049756 , 2.23692362, 2.27930388, 2.54059331,\n",
      "       2.22047753, 3.04718779, 2.01796229, 1.21076905, 2.13407759,\n",
      "       3.31130836, 2.53090911]))\n",
      "('Lasso', array([1.66491301, 1.68530096, 2.11358868, 2.01525859, 2.08472188,\n",
      "       1.92449755, 2.01110079, 2.03590689, 1.91463464, 1.99952592,\n",
      "       1.76715463, 1.95200071]))\n",
      "('MLP Regressor', array([5.66899627, 6.08653061, 6.36979785, 6.94628143, 7.67073537,\n",
      "       6.96021602, 6.45528008, 7.10392644, 6.70023643, 6.85819438,\n",
      "       6.17446626, 6.37334194]))\n"
     ]
    }
   ],
   "source": [
    "x=df.drop(['virtical wind speed'],axis=1)\n",
    "y=df['virtical wind speed']\n",
    "x_train,x_test,y_train,y_test = train_test_split(x,y,test_size=.3,random_state=42)\n",
    "reg_models = [\n",
    "    ['Gradient Boosting Regressor', GradientBoostingRegressor()],\n",
    "    ['Lasso', Lasso()],\n",
    "    ['MLP Regressor', MLPRegressor(hidden_layer_sizes=(100, 100), activation='relu', solver='adam', max_iter=1000)]\n",
    "]\n",
    "\n",
    "for name, model in reg_models:\n",
    "    # Fit the model\n",
    "    model.fit(x_train,y_train)\n",
    "\n",
    "    # Predict on the test set\n",
    "    y_pred= model.predict(x_test)\n",
    "    print(f\"{name,y_pred}\")  "
   ]
  },
  {
   "cell_type": "markdown",
   "id": "3b2435d8-424c-44a4-b157-51efe7d93bc9",
   "metadata": {
    "jp-MarkdownHeadingCollapsed": true,
    "tags": []
   },
   "source": [
    "### predicting sss-100(sea surface salinity)"
   ]
  },
  {
   "cell_type": "code",
   "execution_count": 18,
   "id": "b08ac7d9-504b-492b-b3ce-e9c0013ae57c",
   "metadata": {},
   "outputs": [
    {
     "name": "stdout",
     "output_type": "stream",
     "text": [
      "('Gradient Boosting Regressor', array([34.78947742, 34.72411471, 34.91588733, 34.85333517, 34.77770649,\n",
      "       34.84052766, 34.83136509, 34.80056401, 34.82652259, 34.79328451,\n",
      "       34.87050123, 34.945067  ]))\n",
      "('Lasso', array([34.85208025, 34.85208025, 34.85208025, 34.85208025, 34.85208025,\n",
      "       34.85208025, 34.85208025, 34.85208025, 34.85208025, 34.85208025,\n",
      "       34.85208025, 34.85208025]))\n",
      "('MLP Regressor', array([47.13936726, 47.32682102, 49.21210967, 48.9248058 , 48.60390306,\n",
      "       47.91672312, 48.54346038, 48.69865109, 48.05932753, 48.59340335,\n",
      "       48.21039949, 48.73247239]))\n"
     ]
    }
   ],
   "source": [
    "x=df.drop(['sss-100(sea surface salinity)'],axis=1)\n",
    "y=df['sss-100(sea surface salinity)']\n",
    "x_train,x_test,y_train,y_test = train_test_split(x,y,test_size=.3,random_state=42)\n",
    "reg_models = [\n",
    "    ['Gradient Boosting Regressor', GradientBoostingRegressor()],\n",
    "    ['Lasso', Lasso()],\n",
    "    ['MLP Regressor', MLPRegressor(hidden_layer_sizes=(100, 100), activation='relu', solver='adam', max_iter=1000)]\n",
    "]\n",
    "\n",
    "for name, model in reg_models:\n",
    "    # Fit the model\n",
    "    model.fit(x_train,y_train)\n",
    "\n",
    "    # Predict on the test set\n",
    "    y_pred= model.predict(x_test)\n",
    "    print(f\"{name,y_pred}\")"
   ]
  },
  {
   "cell_type": "markdown",
   "id": "89f4520e-5a16-4344-9265-4eacb0479287",
   "metadata": {
    "jp-MarkdownHeadingCollapsed": true,
    "tags": []
   },
   "source": [
    "### predicting omega1000"
   ]
  },
  {
   "cell_type": "code",
   "execution_count": 19,
   "id": "5c36df73-0ccc-4d41-9184-d307128fd377",
   "metadata": {},
   "outputs": [
    {
     "name": "stdout",
     "output_type": "stream",
     "text": [
      "('Gradient Boosting Regressor', array([-0.00028291, -0.0006038 , -0.0008882 , -0.00068623, -0.00059883,\n",
      "       -0.00073432, -0.0008651 , -0.00047826, -0.00061634, -0.00065772,\n",
      "       -0.00081356, -0.00073379]))\n",
      "('Lasso', array([-0.00067284, -0.00067284, -0.00067284, -0.00067284, -0.00067284,\n",
      "       -0.00067284, -0.00067284, -0.00067284, -0.00067284, -0.00067284,\n",
      "       -0.00067284, -0.00067284]))\n",
      "('MLP Regressor', array([13.59288735, 14.46177875, 13.87979408, 14.71088019, 15.11166119,\n",
      "       14.84107296, 14.45704212, 14.58711787, 14.46715256, 14.73855015,\n",
      "       13.93825499, 14.46451525]))\n"
     ]
    }
   ],
   "source": [
    "x=df.drop(['omega1000'],axis=1)\n",
    "y=df['omega1000']\n",
    "x_train,x_test,y_train,y_test = train_test_split(x,y,test_size=.3,random_state=42)\n",
    "reg_models = [\n",
    "    ['Gradient Boosting Regressor', GradientBoostingRegressor()],\n",
    "    ['Lasso', Lasso()],\n",
    "    ['MLP Regressor', MLPRegressor(hidden_layer_sizes=(100, 100), activation='relu', solver='adam', max_iter=1000)]\n",
    "]\n",
    "\n",
    "for name, model in reg_models:\n",
    "    # Fit the model\n",
    "    model.fit(x_train,y_train)\n",
    "\n",
    "    # Predict on the test set\n",
    "    y_pred= model.predict(x_test)\n",
    "    print(f\"{name,y_pred}\") "
   ]
  },
  {
   "cell_type": "markdown",
   "id": "7a51c716-68a7-4d0a-b482-64effe1986db",
   "metadata": {
    "jp-MarkdownHeadingCollapsed": true,
    "tags": []
   },
   "source": [
    "### predicting omega600"
   ]
  },
  {
   "cell_type": "code",
   "execution_count": 20,
   "id": "bc91263c-0ac5-4000-9491-4ac4ef341b2b",
   "metadata": {},
   "outputs": [
    {
     "name": "stdout",
     "output_type": "stream",
     "text": [
      "('Gradient Boosting Regressor', array([-0.00425728, -0.00663491, -0.0054863 , -0.00542335, -0.00575966,\n",
      "       -0.00619274, -0.00699413, -0.00539128, -0.0066174 , -0.0044922 ,\n",
      "       -0.0065732 , -0.00510662]))\n",
      "('Lasso', array([-0.00568519, -0.00568519, -0.00568519, -0.00568519, -0.00568519,\n",
      "       -0.00568519, -0.00568519, -0.00568519, -0.00568519, -0.00568519,\n",
      "       -0.00568519, -0.00568519]))\n",
      "('MLP Regressor', array([25.7073838 , 26.07248356, 26.64348853, 26.33036324, 26.24715462,\n",
      "       25.98274929, 26.1719461 , 26.30027146, 26.26641315, 26.52430376,\n",
      "       25.27002936, 26.21831284]))\n"
     ]
    }
   ],
   "source": [
    "x=df.drop(['omega600'],axis=1)\n",
    "y=df['omega600']\n",
    "x_train,x_test,y_train,y_test = train_test_split(x,y,test_size=.3,random_state=42)\n",
    "reg_models = [\n",
    "    ['Gradient Boosting Regressor', GradientBoostingRegressor()],\n",
    "    ['Lasso', Lasso()],\n",
    "    ['MLP Regressor', MLPRegressor(hidden_layer_sizes=(100, 100), activation='relu', solver='adam', max_iter=1000)]\n",
    "]\n",
    "\n",
    "for name, model in reg_models:\n",
    "    # Fit the model\n",
    "    model.fit(x_train,y_train)\n",
    "\n",
    "    # Predict on the test set\n",
    "    y_pred= model.predict(x_test)\n",
    "    print(f\"{name,y_pred}\")  "
   ]
  },
  {
   "cell_type": "markdown",
   "id": "5d26f976-d5db-4cd3-8db6-09d16abaa7a9",
   "metadata": {
    "jp-MarkdownHeadingCollapsed": true,
    "tags": []
   },
   "source": [
    "### predicting outgoing longwave radiation"
   ]
  },
  {
   "cell_type": "code",
   "execution_count": 21,
   "id": "770544a0-492b-423e-98a4-b16acb0f6d3b",
   "metadata": {},
   "outputs": [
    {
     "name": "stdout",
     "output_type": "stream",
     "text": [
      "('Gradient Boosting Regressor', array([258.80537176, 259.15344187, 256.1625024 , 257.85838382,\n",
      "       259.67322171, 258.64634425, 257.98127653, 258.49711861,\n",
      "       258.88525285, 257.99370108, 259.50668   , 259.01377907]))\n",
      "('Lasso', array([258.37070526, 258.82899334, 257.31677443, 258.63669106,\n",
      "       259.18061286, 258.54571522, 258.14592975, 258.54687244,\n",
      "       258.63492743, 258.81007163, 257.56173276, 258.34309551]))\n",
      "('MLP Regressor', array([238.17505444, 238.86198704, 238.60285196, 239.74865307,\n",
      "       240.35201355, 239.13470863, 239.20020775, 239.26113096,\n",
      "       239.14875192, 239.99304592, 238.09002552, 239.41370457]))\n"
     ]
    }
   ],
   "source": [
    "x=df.drop(['outgoing longwave radiation'],axis=1)\n",
    "y=df['outgoing longwave radiation']\n",
    "x_train,x_test,y_train,y_test = train_test_split(x,y,test_size=.3,random_state=42)\n",
    "reg_models = [\n",
    "    ['Gradient Boosting Regressor', GradientBoostingRegressor()],\n",
    "    ['Lasso', Lasso()],\n",
    "    ['MLP Regressor', MLPRegressor(hidden_layer_sizes=(100, 100), activation='relu', solver='adam', max_iter=1000)]\n",
    "]\n",
    "\n",
    "for name, model in reg_models:\n",
    "    # Fit the model\n",
    "    model.fit(x_train,y_train)\n",
    "\n",
    "    # Predict on the test set\n",
    "    y_pred= model.predict(x_test)\n",
    "    print(f\"{name,y_pred}\")"
   ]
  },
  {
   "cell_type": "markdown",
   "id": "d7fe162d-6a42-45ef-802a-602a54d14a94",
   "metadata": {
    "jp-MarkdownHeadingCollapsed": true,
    "tags": []
   },
   "source": [
    "### predicting ONI(nino index)"
   ]
  },
  {
   "cell_type": "code",
   "execution_count": 22,
   "id": "c91f0fc1-2ebc-4c86-bb38-2f63ff3e55fb",
   "metadata": {},
   "outputs": [
    {
     "name": "stdout",
     "output_type": "stream",
     "text": [
      "('Gradient Boosting Regressor', array([ 0.43154883, -0.33979515,  0.19282069, -0.49079911, -0.28700403,\n",
      "       -0.53996706, -0.52313931, -0.45673246, -0.36372465,  0.51870834,\n",
      "       -0.57880085, -0.37777575]))\n",
      "('Lasso', array([0.03487654, 0.03487654, 0.03487654, 0.03487654, 0.03487654,\n",
      "       0.03487654, 0.03487654, 0.03487654, 0.03487654, 0.03487654,\n",
      "       0.03487654, 0.03487654]))\n",
      "('MLP Regressor', array([-16.34033388, -15.16145038, -11.2934498 , -11.39866377,\n",
      "        -9.96752334, -12.74455559, -12.32810253, -10.90859306,\n",
      "       -12.60525706, -11.57447622, -15.21845673, -12.98597122]))\n"
     ]
    }
   ],
   "source": [
    "x=df.drop(['ONI(nino index)'],axis=1)\n",
    "y=df['ONI(nino index)']\n",
    "x_train,x_test,y_train,y_test = train_test_split(x,y,test_size=.3,random_state=42)\n",
    "reg_models = [\n",
    "    ['Gradient Boosting Regressor', GradientBoostingRegressor()],\n",
    "    ['Lasso', Lasso()],\n",
    "    ['MLP Regressor', MLPRegressor(hidden_layer_sizes=(100, 100), activation='relu', solver='adam', max_iter=1000)]\n",
    "]\n",
    "\n",
    "for name, model in reg_models:\n",
    "    # Fit the model\n",
    "    model.fit(x_train,y_train)\n",
    "\n",
    "    # Predict on the test set\n",
    "    y_pred= model.predict(x_test)\n",
    "    print(f\"{name,y_pred}\")"
   ]
  },
  {
   "cell_type": "markdown",
   "id": "42668543-d014-4970-be96-3491dd564887",
   "metadata": {
    "tags": []
   },
   "source": [
    "### predicting dry microbust index"
   ]
  },
  {
   "cell_type": "code",
   "execution_count": 23,
   "id": "d8226aac-fd31-467e-8f37-d84140dc93fd",
   "metadata": {},
   "outputs": [
    {
     "name": "stdout",
     "output_type": "stream",
     "text": [
      "('Gradient Boosting Regressor', array([ 0.17574936,  0.17179578, -0.22727091, -0.13774298, -0.10662042,\n",
      "        0.13812178,  0.30897809,  0.02375401,  0.14274626,  0.14026405,\n",
      "        0.170913  ,  0.10218152]))\n",
      "('Lasso', array([0.03106893, 0.03106893, 0.03106893, 0.03106893, 0.03106893,\n",
      "       0.03106893, 0.03106893, 0.03106893, 0.03106893, 0.03106893,\n",
      "       0.03106893, 0.03106893]))\n",
      "('MLP Regressor', array([-7.49232592, -8.44989411, -9.64172186, -9.34251632, -9.02440561,\n",
      "       -8.64448596, -9.63642948, -8.78540493, -8.82734907, -9.20805202,\n",
      "       -8.3937832 , -9.04718087]))\n"
     ]
    }
   ],
   "source": [
    "x=df.drop(['dry microbust index'],axis=1)\n",
    "y=df['dry microbust index']\n",
    "x_train,x_test,y_train,y_test = train_test_split(x,y,test_size=.3,random_state=42)\n",
    "reg_models = [\n",
    "    ['Gradient Boosting Regressor', GradientBoostingRegressor()],\n",
    "    ['Lasso', Lasso()],\n",
    "    ['MLP Regressor', MLPRegressor(hidden_layer_sizes=(100, 100), activation='relu', solver='adam', max_iter=1000)]\n",
    "]\n",
    "\n",
    "for name, model in reg_models:\n",
    "    # Fit the model\n",
    "    model.fit(x_train,y_train)\n",
    "\n",
    "    # Predict on the test set\n",
    "    y_pred= model.predict(x_test)\n",
    "    print(f\"{name,y_pred}\") "
   ]
  },
  {
   "cell_type": "code",
   "execution_count": null,
   "id": "2c5f03f5-1ffb-41f9-901a-32d5c8adadcd",
   "metadata": {},
   "outputs": [],
   "source": []
  }
 ],
 "metadata": {
  "kernelspec": {
   "display_name": "Python 3 (ipykernel)",
   "language": "python",
   "name": "python3"
  },
  "language_info": {
   "codemirror_mode": {
    "name": "ipython",
    "version": 3
   },
   "file_extension": ".py",
   "mimetype": "text/x-python",
   "name": "python",
   "nbconvert_exporter": "python",
   "pygments_lexer": "ipython3",
   "version": "3.10.9"
  }
 },
 "nbformat": 4,
 "nbformat_minor": 5
}
